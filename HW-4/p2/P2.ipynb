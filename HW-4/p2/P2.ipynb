{
 "cells": [
  {
   "cell_type": "code",
   "execution_count": 1,
   "metadata": {},
   "outputs": [],
   "source": [
    "import pandas as pd\n",
    "\n",
    "s = 'LSVT_voice_rehabilitation.xlsx'\n",
    "\n",
    "# features\n",
    "dff = pd.read_excel(s, 'Data')\n",
    "X = dff.values\n",
    "\n",
    "# labels\n",
    "dfl = pd.read_excel(s, 'Binary response')\n",
    "y = dfl.values[:,0]"
   ]
  },
  {
   "cell_type": "code",
   "execution_count": null,
   "metadata": {},
   "outputs": [],
   "source": [
    "from sklearn.preprocessing import StandardScaler\n",
    "\n",
    "X = StandardScaler().fit_transform(X, y)"
   ]
  },
  {
   "cell_type": "code",
   "execution_count": 2,
   "metadata": {},
   "outputs": [],
   "source": [
    "import numpy as np\n",
    "from sklearn.svm import SVC\n",
    "from sklearn.model_selection import KFold\n",
    "from sklearn.metrics import accuracy_score, f1_score\n",
    "\n",
    "kf = KFold(n_splits=10)"
   ]
  },
  {
   "cell_type": "code",
   "execution_count": 6,
   "metadata": {},
   "outputs": [
    {
     "name": "stdout",
     "output_type": "stream",
     "text": [
      "linear kernel:\n",
      "accuracy: 0.809615\n",
      "f1_score: 0.718846\n"
     ]
    }
   ],
   "source": [
    "clf = SVC(kernel=\"linear\")\n",
    "\n",
    "a = []\n",
    "f1 = []\n",
    "\n",
    "for train_index, test_index in kf.split(X):\n",
    "    X_train, X_test = X[train_index], X[test_index]\n",
    "    y_train, y_test = y[train_index], y[test_index]\n",
    "    clf.fit(X_train, y_train)\n",
    "    a.append(accuracy_score(y_test, clf.predict(X_test)))\n",
    "    f1.append(f1_score(y_test, clf.predict(X_test)))\n",
    "\n",
    "print(f'linear kernel:')\n",
    "print(f'accuracy: {np.mean(a):f}')\n",
    "print(f'f1_score: {np.mean(f1):f}')"
   ]
  },
  {
   "cell_type": "code",
   "execution_count": 8,
   "metadata": {},
   "outputs": [
    {
     "name": "stdout",
     "output_type": "stream",
     "text": [
      "polynomial kernel (d = 3, r = 0):\n",
      "accuracy: 0.683333\n",
      "f1_score: 0.080000\n",
      "polynomial kernel (d = 3, r = 1):\n",
      "accuracy: 0.841667\n",
      "f1_score: 0.743838\n",
      "polynomial kernel (d = 3, r = 2):\n",
      "accuracy: 0.833974\n",
      "f1_score: 0.755354\n",
      "polynomial kernel (d = 4, r = 0):\n",
      "accuracy: 0.658974\n",
      "f1_score: 0.033333\n",
      "polynomial kernel (d = 4, r = 1):\n",
      "accuracy: 0.849359\n",
      "f1_score: 0.770505\n",
      "polynomial kernel (d = 4, r = 2):\n",
      "accuracy: 0.834615\n",
      "f1_score: 0.744444\n",
      "polynomial kernel (d = 5, r = 0):\n",
      "accuracy: 0.658974\n",
      "f1_score: 0.000000\n",
      "polynomial kernel (d = 5, r = 1):\n",
      "accuracy: 0.842949\n",
      "f1_score: 0.756061\n",
      "polynomial kernel (d = 5, r = 2):\n",
      "accuracy: 0.826923\n",
      "f1_score: 0.737172\n"
     ]
    }
   ],
   "source": [
    "degree=3\n",
    "coef0=0\n",
    "\n",
    "for degree in (3, 4, 5):\n",
    "    for coef0 in (0, 1, 2):\n",
    "        clf = SVC(kernel=\"poly\", degree=degree, coef0=coef0)\n",
    "\n",
    "        a = []\n",
    "        f1 = []\n",
    "\n",
    "        for train_index, test_index in kf.split(X):\n",
    "            X_train, X_test = X[train_index], X[test_index]\n",
    "            y_train, y_test = y[train_index], y[test_index]\n",
    "            clf.fit(X_train, y_train)\n",
    "            a.append(accuracy_score(y_test, clf.predict(X_test)))\n",
    "            f1.append(f1_score(y_test, clf.predict(X_test)))\n",
    "\n",
    "        print(f'polynomial kernel (d = {degree}, r = {coef0}):')\n",
    "        print(f'accuracy: {np.mean(a):f}')\n",
    "        print(f'f1_score: {np.mean(f1):f}')"
   ]
  },
  {
   "cell_type": "code",
   "execution_count": 9,
   "metadata": {},
   "outputs": [
    {
     "name": "stdout",
     "output_type": "stream",
     "text": [
      "rfb kernel (gamma = 3):\n",
      "accuracy: 0.851282\n",
      "f1_score: 0.702937\n",
      "rfb kernel (gamma = 4):\n",
      "accuracy: 0.851282\n",
      "f1_score: 0.702937\n",
      "rfb kernel (gamma = 5):\n",
      "accuracy: 0.851282\n",
      "f1_score: 0.702937\n"
     ]
    }
   ],
   "source": [
    "for gamma in (3, 4, 5):\n",
    "    clf = SVC(kernel=\"poly\", gamma=gamma)\n",
    "\n",
    "    a = []\n",
    "    f1 = []\n",
    "\n",
    "    for train_index, test_index in kf.split(X):\n",
    "        X_train, X_test = X[train_index], X[test_index]\n",
    "        y_train, y_test = y[train_index], y[test_index]\n",
    "        clf.fit(X_train, y_train)\n",
    "        a.append(accuracy_score(y_test, clf.predict(X_test)))\n",
    "        f1.append(f1_score(y_test, clf.predict(X_test)))\n",
    "\n",
    "    print(f'rfb kernel (gamma = {gamma}):')\n",
    "    print(f'accuracy: {np.mean(a):f}')\n",
    "    print(f'f1_score: {np.mean(f1):f}')"
   ]
  },
  {
   "cell_type": "code",
   "execution_count": 10,
   "metadata": {},
   "outputs": [
    {
     "name": "stdout",
     "output_type": "stream",
     "text": [
      "rfb kernel (r = 3):\n",
      "accuracy: 0.666667\n",
      "f1_score: 0.000000\n",
      "rfb kernel (r = 4):\n",
      "accuracy: 0.666667\n",
      "f1_score: 0.000000\n",
      "rfb kernel (r = 5):\n",
      "accuracy: 0.666667\n",
      "f1_score: 0.000000\n"
     ]
    }
   ],
   "source": [
    "for coef0 in (3, 4, 5):\n",
    "    clf = SVC(kernel=\"sigmoid\", coef0=coef0)\n",
    "\n",
    "    a = []\n",
    "    f1 = []\n",
    "\n",
    "    for train_index, test_index in kf.split(X):\n",
    "        X_train, X_test = X[train_index], X[test_index]\n",
    "        y_train, y_test = y[train_index], y[test_index]\n",
    "        clf.fit(X_train, y_train)\n",
    "        a.append(accuracy_score(y_test, clf.predict(X_test)))\n",
    "        f1.append(f1_score(y_test, clf.predict(X_test)))\n",
    "\n",
    "    print(f'rfb kernel (r = {coef0}):')\n",
    "    print(f'accuracy: {np.mean(a):f}')\n",
    "    print(f'f1_score: {np.mean(f1):f}')"
   ]
  }
 ],
 "metadata": {
  "kernelspec": {
   "display_name": "Python 3",
   "language": "python",
   "name": "python3"
  },
  "language_info": {
   "codemirror_mode": {
    "name": "ipython",
    "version": 3
   },
   "file_extension": ".py",
   "mimetype": "text/x-python",
   "name": "python",
   "nbconvert_exporter": "python",
   "pygments_lexer": "ipython3",
   "version": "3.7.3"
  }
 },
 "nbformat": 4,
 "nbformat_minor": 4
}
